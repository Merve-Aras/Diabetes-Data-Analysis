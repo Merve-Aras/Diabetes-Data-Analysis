{
 "cells": [
  {
   "cell_type": "code",
   "execution_count": 15,
   "id": "90340c44-6a7a-4490-871a-d5799c8c56a3",
   "metadata": {},
   "outputs": [],
   "source": [
    "import pandas as pd\n",
    "from sklearn.model_selection import train_test_split\n",
    "from sklearn.preprocessing import StandardScaler\n",
    "from sklearn.linear_model import LogisticRegression\n",
    "from sklearn.neighbors import KNeighborsClassifier\n",
    "from sklearn.svm import SVC\n",
    "from sklearn.naive_bayes import GaussianNB\n",
    "from sklearn.tree import DecisionTreeClassifier\n",
    "from sklearn.metrics import accuracy_score"
   ]
  },
  {
   "cell_type": "code",
   "execution_count": 3,
   "id": "fc17469b-7d0f-44b9-b248-cfa244697fc2",
   "metadata": {},
   "outputs": [],
   "source": [
    "data = pd.read_csv(\"diabetes.csv\")"
   ]
  },
  {
   "cell_type": "code",
   "execution_count": 4,
   "id": "25bb980e-202a-453a-8922-979ddf42d5e1",
   "metadata": {},
   "outputs": [],
   "source": [
    "data_copy = data.copy()"
   ]
  },
  {
   "cell_type": "code",
   "execution_count": 5,
   "id": "89148f54-05b5-48ff-8c0a-c7408315d23d",
   "metadata": {},
   "outputs": [
    {
     "name": "stdout",
     "output_type": "stream",
     "text": [
      "<class 'pandas.core.frame.DataFrame'>\n",
      "RangeIndex: 768 entries, 0 to 767\n",
      "Data columns (total 9 columns):\n",
      " #   Column                    Non-Null Count  Dtype  \n",
      "---  ------                    --------------  -----  \n",
      " 0   Pregnancies               768 non-null    int64  \n",
      " 1   Glucose                   768 non-null    int64  \n",
      " 2   BloodPressure             768 non-null    int64  \n",
      " 3   SkinThickness             768 non-null    int64  \n",
      " 4   Insulin                   768 non-null    int64  \n",
      " 5   BMI                       768 non-null    float64\n",
      " 6   DiabetesPedigreeFunction  768 non-null    float64\n",
      " 7   Age                       768 non-null    int64  \n",
      " 8   Outcome                   768 non-null    int64  \n",
      "dtypes: float64(2), int64(7)\n",
      "memory usage: 54.1 KB\n",
      "None\n"
     ]
    }
   ],
   "source": [
    "print(data_copy.info())"
   ]
  },
  {
   "cell_type": "code",
   "execution_count": 6,
   "id": "e436bc99-81bc-4009-a6fe-1f58838ccc42",
   "metadata": {},
   "outputs": [
    {
     "name": "stdout",
     "output_type": "stream",
     "text": [
      "Pregnancies                 0\n",
      "Glucose                     0\n",
      "BloodPressure               0\n",
      "SkinThickness               0\n",
      "Insulin                     0\n",
      "BMI                         0\n",
      "DiabetesPedigreeFunction    0\n",
      "Age                         0\n",
      "Outcome                     0\n",
      "dtype: int64\n"
     ]
    }
   ],
   "source": [
    "print(data_copy.isnull().sum())"
   ]
  },
  {
   "cell_type": "code",
   "execution_count": 7,
   "id": "3f16f3f1-09d8-4d02-825f-c83f03d15bc0",
   "metadata": {},
   "outputs": [],
   "source": [
    "#dependent variable\n",
    "y = data_copy[\"Outcome\"]"
   ]
  },
  {
   "cell_type": "code",
   "execution_count": 8,
   "id": "0fe3a7e4-6a7a-46a7-a862-b1b65131d80f",
   "metadata": {},
   "outputs": [],
   "source": [
    "#independent variable\n",
    "X = data_copy.drop(columns = \"Outcome\", axis = 1)"
   ]
  },
  {
   "cell_type": "code",
   "execution_count": 9,
   "id": "25119d95-63cc-488c-b3d4-0b53fe83e24e",
   "metadata": {
    "editable": true,
    "slideshow": {
     "slide_type": ""
    },
    "tags": []
   },
   "outputs": [],
   "source": [
    "X_train, X_test, y_train, y_test = train_test_split(X, y, test_size= 0.2, random_state= 42)"
   ]
  },
  {
   "cell_type": "code",
   "execution_count": 11,
   "id": "bd86fb22-0e46-4118-8c37-5a786a6d295a",
   "metadata": {},
   "outputs": [],
   "source": [
    "sc =  StandardScaler()"
   ]
  },
  {
   "cell_type": "code",
   "execution_count": 12,
   "id": "a94197fc-b146-4f0c-ab5b-a13629120be7",
   "metadata": {},
   "outputs": [],
   "source": [
    "X_train = sc.fit_transform(X_train)"
   ]
  },
  {
   "cell_type": "code",
   "execution_count": 13,
   "id": "6af062d6-54c0-476d-a98b-e826b4b9e7cb",
   "metadata": {},
   "outputs": [],
   "source": [
    "X_test = sc.transform(X_test)"
   ]
  },
  {
   "cell_type": "code",
   "execution_count": 16,
   "id": "e459d8e1-f528-4c4a-acac-b36ee36de2a4",
   "metadata": {},
   "outputs": [],
   "source": [
    "def models(model):\n",
    "    model.fit(X_train, y_train)\n",
    "    predict = model.predict(X_test)\n",
    "    score = accuracy_score(y_test, predict)\n",
    "    return round(score*100, 2)"
   ]
  },
  {
   "cell_type": "code",
   "execution_count": 34,
   "id": "23597834-ec32-43e4-a4c1-a0ca4426bfa3",
   "metadata": {},
   "outputs": [],
   "source": [
    "model_list = []"
   ]
  },
  {
   "cell_type": "code",
   "execution_count": 35,
   "id": "0e6e04b3-f06a-401b-b633-81298df4b9a2",
   "metadata": {},
   "outputs": [],
   "source": [
    "model_list.append((\"Log_Regresion\", LogisticRegression(random_state=0)))\n",
    "model_list.append((\"KNN\", KNeighborsClassifier()))\n",
    "model_list.append((\"SVC\", SVC(random_state=0)))\n",
    "model_list.append((\"Bayes\", GaussianNB()))\n",
    "model_list.append((\"Decision_Tree\", DecisionTreeClassifier(random_state=0)))"
   ]
  },
  {
   "cell_type": "code",
   "execution_count": 37,
   "id": "7a2395ad-027d-4913-91ea-2ef4603399cf",
   "metadata": {},
   "outputs": [],
   "source": [
    "model_name = []\n",
    "succes_score = []"
   ]
  },
  {
   "cell_type": "code",
   "execution_count": 38,
   "id": "8badcad7-e9d3-4d52-9466-476df012fd17",
   "metadata": {},
   "outputs": [],
   "source": [
    "for i in model_list:\n",
    "    model_name.append(i[0])\n",
    "    succes_score.append(models(i[1]))"
   ]
  },
  {
   "cell_type": "code",
   "execution_count": 39,
   "id": "5ae89c9d-c556-4d3e-9a20-70d1c9bfcf70",
   "metadata": {},
   "outputs": [],
   "source": [
    "result_zip = list(zip(model_name, succes_score))"
   ]
  },
  {
   "cell_type": "code",
   "execution_count": 40,
   "id": "80b7dd16-f2b4-4269-90ed-bfc0072e43f9",
   "metadata": {},
   "outputs": [],
   "source": [
    "result = pd.DataFrame(result_zip, columns = [\"Models\", \"Score\"])"
   ]
  },
  {
   "cell_type": "code",
   "execution_count": 41,
   "id": "2b057956-e542-427e-aecc-6886239e11ad",
   "metadata": {},
   "outputs": [
    {
     "name": "stdout",
     "output_type": "stream",
     "text": [
      "          Models  Score\n",
      "0  Log_Regresion  75.32\n",
      "1            KNN  69.48\n",
      "2            SVC  73.38\n",
      "3          Bayes  76.62\n",
      "4  Decision_Tree  74.68\n"
     ]
    }
   ],
   "source": [
    "print(result)"
   ]
  },
  {
   "cell_type": "code",
   "execution_count": null,
   "id": "68c74f0b-84d0-4f19-9e89-9d2fe5488232",
   "metadata": {},
   "outputs": [],
   "source": []
  }
 ],
 "metadata": {
  "kernelspec": {
   "display_name": "Python 3 (ipykernel)",
   "language": "python",
   "name": "python3"
  },
  "language_info": {
   "codemirror_mode": {
    "name": "ipython",
    "version": 3
   },
   "file_extension": ".py",
   "mimetype": "text/x-python",
   "name": "python",
   "nbconvert_exporter": "python",
   "pygments_lexer": "ipython3",
   "version": "3.12.0"
  }
 },
 "nbformat": 4,
 "nbformat_minor": 5
}
